{
 "cells": [
  {
   "cell_type": "code",
   "execution_count": 6,
   "id": "988804688f0877b5",
   "metadata": {
    "ExecuteTime": {
     "end_time": "2024-03-05T17:56:25.035349407Z",
     "start_time": "2024-03-05T17:56:25.020127773Z"
    },
    "collapsed": false
   },
   "outputs": [],
   "source": [
    "%load_ext autoreload\n",
    "%autoreload 2"
   ]
  },
  {
   "cell_type": "code",
   "execution_count": 7,
   "id": "initial_id",
   "metadata": {
    "ExecuteTime": {
     "end_time": "2024-03-05T17:56:25.075292454Z",
     "start_time": "2024-03-05T17:56:25.073730656Z"
    },
    "collapsed": true
   },
   "outputs": [],
   "source": [
    "#Use this to load current python files (not installed package)\n",
    "#The two lines above allows to on-call reload of the module if anything changed in source files\n",
    "import sys\n",
    "sys.path.append('../src')\n"
   ]
  },
  {
   "cell_type": "code",
   "execution_count": 8,
   "id": "2bd3ff794ba2e1f",
   "metadata": {
    "ExecuteTime": {
     "end_time": "2024-03-05T17:56:25.076703728Z",
     "start_time": "2024-03-05T17:56:25.073993314Z"
    },
    "collapsed": false
   },
   "outputs": [
    {
     "data": {
      "text/plain": [
       "0"
      ]
     },
     "execution_count": 8,
     "metadata": {},
     "output_type": "execute_result"
    }
   ],
   "source": [
    "from wpdm.utils import foo\n",
    "\n",
    "# Zobacz czy działa ich import -- dziala\n",
    "from wpdm.utils import bar \n",
    "\n",
    "# Zmień działanie funkcji foo z dodawania na odejmowanie: czy modyfikacja jest automatycznie widoczna w JupyterLab? - Nie, trzeba uruchomić blok jeszcze raz\n",
    "foo(2,2)\n",
    "# Co jeśli wykomentujesz pierwsze dwie linie i zresetujesz kernel? - to samo\n",
    "\n"
   ]
  },
  {
   "cell_type": "code",
   "execution_count": 9,
   "id": "8e5c2a9b",
   "metadata": {},
   "outputs": [
    {
     "data": {
      "text/plain": [
       "6"
      ]
     },
     "execution_count": 9,
     "metadata": {},
     "output_type": "execute_result"
    }
   ],
   "source": [
    "bar(2,3)"
   ]
  }
 ],
 "metadata": {
  "kernelspec": {
   "display_name": "wpdm_setup",
   "language": "python",
   "name": "python3"
  },
  "language_info": {
   "codemirror_mode": {
    "name": "ipython",
    "version": 3
   },
   "file_extension": ".py",
   "mimetype": "text/x-python",
   "name": "python",
   "nbconvert_exporter": "python",
   "pygments_lexer": "ipython3",
   "version": "3.8.20"
  }
 },
 "nbformat": 4,
 "nbformat_minor": 5
}
